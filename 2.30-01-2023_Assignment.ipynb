{
 "cells": [
  {
   "cell_type": "markdown",
   "id": "161518a5-2a4b-4165-9fff-4ec2f140c130",
   "metadata": {},
   "source": [
    "ASSIGNMENT 2"
   ]
  },
  {
   "cell_type": "markdown",
   "id": "92511cbc-5338-43a7-be6f-dc0dee8bbe79",
   "metadata": {},
   "source": [
    "ANS 1:"
   ]
  },
  {
   "cell_type": "code",
   "execution_count": 12,
   "id": "14e83903-9dfa-4eee-aecb-0d62b5eac558",
   "metadata": {},
   "outputs": [
    {
     "name": "stdin",
     "output_type": "stream",
     "text": [
      "Enter your marks 100\n"
     ]
    },
    {
     "name": "stdout",
     "output_type": "stream",
     "text": [
      "The grade is A\n"
     ]
    }
   ],
   "source": [
    "marks = int(input(\"Enter your marks\"))\n",
    "if marks > 100 or marks < 0:\n",
    "    print(\"Entered marks is invalid\")\n",
    "else:\n",
    "    if marks > 90:\n",
    "        print(\"The grade is A\")\n",
    "    elif marks <= 90 and marks > 80:\n",
    "        print(\"The grade is B\")\n",
    "    elif marks <= 80 and marks >= 60:\n",
    "        print(\"The grade is C\")\n",
    "    else:\n",
    "        print(\"The grade is D\")"
   ]
  },
  {
   "cell_type": "markdown",
   "id": "76430c75-e89e-45dc-88bc-40e87901f6b1",
   "metadata": {},
   "source": [
    "ANS 2:"
   ]
  },
  {
   "cell_type": "code",
   "execution_count": 20,
   "id": "8bd1f963-b5d6-46e8-b083-8985facbe1a4",
   "metadata": {},
   "outputs": [
    {
     "name": "stdin",
     "output_type": "stream",
     "text": [
      "Enter cost price of bike 50000\n"
     ]
    },
    {
     "name": "stdout",
     "output_type": "stream",
     "text": [
      "Road tax is 5% of cost price which is 2500.0\n"
     ]
    }
   ],
   "source": [
    "cp = int(input(\"Enter cost price of bike\"))\n",
    "if cp > 100000:\n",
    "    tax = .15 * cp\n",
    "    print(f\"Road tax is 15% of cost price which is {tax}\")\n",
    "elif cp <= 100000 and cp > 50000:\n",
    "    tax = .1 * cp\n",
    "    print(f\"Road tax is 10% of cost price which is {tax}\")\n",
    "else:\n",
    "    tax = .05 * cp\n",
    "    print(f\"Road tax is 5% of cost price which is {tax}\")"
   ]
  },
  {
   "cell_type": "markdown",
   "id": "508e75ad-780a-4163-a129-2b7029c72d4c",
   "metadata": {},
   "source": [
    "ANS 3:"
   ]
  },
  {
   "cell_type": "code",
   "execution_count": 24,
   "id": "990f342c-b9f0-481a-a35a-bccad8674e70",
   "metadata": {},
   "outputs": [
    {
     "name": "stdin",
     "output_type": "stream",
     "text": [
      "Enter a city name jaipur\n"
     ]
    },
    {
     "name": "stdout",
     "output_type": "stream",
     "text": [
      "The monument is Jal Mahal\n"
     ]
    }
   ],
   "source": [
    "city = input(\"Enter a city name\")\n",
    "if city.title() == 'Delhi':\n",
    "    print(\"The monument is Red Fort\")\n",
    "elif city.title() == 'Agra':\n",
    "    print(\"The monument is Taj Mahal\")\n",
    "elif city.title() == 'Jaipur':\n",
    "    print(\"The monument is Jal Mahal\")\n",
    "else:\n",
    "    print(\"Invalid input\")"
   ]
  },
  {
   "cell_type": "markdown",
   "id": "643e094c-7690-43a4-91e6-7996a7ec4891",
   "metadata": {},
   "source": [
    "ANS 4:"
   ]
  },
  {
   "cell_type": "code",
   "execution_count": 28,
   "id": "99d979b2-ed7d-410e-861f-3e8ccad2fc78",
   "metadata": {},
   "outputs": [
    {
     "name": "stdin",
     "output_type": "stream",
     "text": [
      "Enter a number 60\n"
     ]
    },
    {
     "data": {
      "text/plain": [
       "2"
      ]
     },
     "execution_count": 28,
     "metadata": {},
     "output_type": "execute_result"
    }
   ],
   "source": [
    "num = int(input(\"Enter a number\"))\n",
    "count = 0\n",
    "while num > 10:\n",
    "    num = num / 3\n",
    "    count = count + 1\n",
    "count"
   ]
  },
  {
   "cell_type": "markdown",
   "id": "73d6c0db-8efa-4a14-8b9d-b4ce2ad87a33",
   "metadata": {},
   "source": [
    "ANS 5:"
   ]
  },
  {
   "cell_type": "markdown",
   "id": "bc14ddbd-4c6a-4db4-9ad0-7b9a6c3146d5",
   "metadata": {},
   "source": [
    "Python while loop is used to repeatedly execute a block of statement until a given condition is satisfied. If the given condition becomes False the control exits the while loop.\n",
    "We use while loop when we don't know how many iterations the loop has to run and only know a final result that has to be satisfied.\n",
    "For example we know to find sum of digits of a number, we can use while loop to directly give condition when to exit the loop instead of finding number of digits."
   ]
  },
  {
   "cell_type": "code",
   "execution_count": 6,
   "id": "d36a715b-dae2-4454-896d-ae8a9431e9a0",
   "metadata": {},
   "outputs": [
    {
     "name": "stdin",
     "output_type": "stream",
     "text": [
      "Enter a number 24374\n"
     ]
    },
    {
     "name": "stdout",
     "output_type": "stream",
     "text": [
      "20\n"
     ]
    }
   ],
   "source": [
    "#example\n",
    "n = int(input(\"Enter a number\"))\n",
    "s = 0\n",
    "while n != 0 :\n",
    "    s = s + (n%10)\n",
    "    n = int(n / 10)\n",
    "print(s)"
   ]
  },
  {
   "cell_type": "markdown",
   "id": "68898fea-7a4f-4ab4-b2be-520f25f10d44",
   "metadata": {},
   "source": [
    "ANS 6:"
   ]
  },
  {
   "cell_type": "code",
   "execution_count": 15,
   "id": "aa1a0dd0-1f17-42c8-b436-0df2abf3ac86",
   "metadata": {},
   "outputs": [
    {
     "name": "stdin",
     "output_type": "stream",
     "text": [
      "Enter height 7\n"
     ]
    },
    {
     "name": "stdout",
     "output_type": "stream",
     "text": [
      "*******\n",
      "******\n",
      "*****\n",
      "****\n",
      "***\n",
      "**\n",
      "*\n"
     ]
    }
   ],
   "source": [
    "n = int(input(\"Enter height\"))\n",
    "while n != 0:\n",
    "    i = n\n",
    "    while i > 0:\n",
    "        print(\"*\" , end = '')\n",
    "        i = i - 1\n",
    "    print(\"\")\n",
    "    n = n-1"
   ]
  },
  {
   "cell_type": "code",
   "execution_count": 1,
   "id": "15512844-5049-431e-8eb2-b45a00f5a1c1",
   "metadata": {},
   "outputs": [
    {
     "name": "stdin",
     "output_type": "stream",
     "text": [
      "Enter height 5\n"
     ]
    },
    {
     "name": "stdout",
     "output_type": "stream",
     "text": [
      "*\n",
      "**\n",
      "***\n",
      "****\n",
      "*****\n"
     ]
    }
   ],
   "source": [
    "n = int(input(\"Enter height\"))\n",
    "i = 1\n",
    "while n != 0:\n",
    "    c = i\n",
    "    while c > 0:\n",
    "        print(\"*\" , end = '')\n",
    "        c = c - 1\n",
    "    print(\"\")\n",
    "    n = n - 1\n",
    "    i = i + 1"
   ]
  },
  {
   "cell_type": "code",
   "execution_count": 7,
   "id": "e3be85b2-5cd0-47f0-9d63-5fe1bbf2d3b4",
   "metadata": {},
   "outputs": [
    {
     "name": "stdin",
     "output_type": "stream",
     "text": [
      "Enter length 20\n",
      "Enter breadth 10\n"
     ]
    },
    {
     "name": "stdout",
     "output_type": "stream",
     "text": [
      "********************\n",
      "*                  *\n",
      "*                  *\n",
      "*                  *\n",
      "*                  *\n",
      "*                  *\n",
      "*                  *\n",
      "*                  *\n",
      "*                  *\n",
      "********************\n"
     ]
    }
   ],
   "source": [
    "l = int(input(\"Enter length\"))\n",
    "b = int(input(\"Enter breadth\"))\n",
    "y = b\n",
    "while b != 0:\n",
    "    x = l\n",
    "    if b == y or b == 1:\n",
    "        while x != 0:\n",
    "            print(\"*\" , end='')\n",
    "            x = x - 1\n",
    "    else:\n",
    "        while x != 0:\n",
    "            if x == l or x == 1:\n",
    "                print(\"*\" , end='')\n",
    "            else:\n",
    "                print(\" \" , end='')\n",
    "            x = x - 1\n",
    "    print(\"\")\n",
    "    b = b - 1"
   ]
  },
  {
   "cell_type": "markdown",
   "id": "0932c4dc-fd59-4460-91d5-99f9f5d401a9",
   "metadata": {},
   "source": [
    "ANS 7:"
   ]
  },
  {
   "cell_type": "code",
   "execution_count": 9,
   "id": "d4dc841f-b1ef-4fea-8856-fb29a54f1bb4",
   "metadata": {},
   "outputs": [
    {
     "name": "stdout",
     "output_type": "stream",
     "text": [
      "10\n",
      "9\n",
      "8\n",
      "7\n",
      "6\n",
      "5\n",
      "4\n",
      "3\n",
      "2\n",
      "1\n"
     ]
    }
   ],
   "source": [
    "i = 10\n",
    "while i > 0:\n",
    "    print(i)\n",
    "    i = i - 1"
   ]
  },
  {
   "cell_type": "markdown",
   "id": "aec70643-0654-42b2-b9dc-11dc982afd54",
   "metadata": {},
   "source": [
    "ANS 8:"
   ]
  },
  {
   "cell_type": "code",
   "execution_count": 10,
   "id": "142e3e4f-7b0e-43d1-a021-a104cd57134b",
   "metadata": {},
   "outputs": [
    {
     "name": "stdout",
     "output_type": "stream",
     "text": [
      "10\n",
      "9\n",
      "8\n",
      "7\n",
      "6\n",
      "5\n",
      "4\n",
      "3\n",
      "2\n",
      "1\n"
     ]
    }
   ],
   "source": [
    "i = 10\n",
    "while i > 0:\n",
    "    print(i)\n",
    "    i = i - 1"
   ]
  },
  {
   "cell_type": "code",
   "execution_count": null,
   "id": "b9284737-c52c-4909-9f9d-166017e86189",
   "metadata": {},
   "outputs": [],
   "source": []
  }
 ],
 "metadata": {
  "kernelspec": {
   "display_name": "Python 3 (ipykernel)",
   "language": "python",
   "name": "python3"
  },
  "language_info": {
   "codemirror_mode": {
    "name": "ipython",
    "version": 3
   },
   "file_extension": ".py",
   "mimetype": "text/x-python",
   "name": "python",
   "nbconvert_exporter": "python",
   "pygments_lexer": "ipython3",
   "version": "3.10.8"
  }
 },
 "nbformat": 4,
 "nbformat_minor": 5
}
